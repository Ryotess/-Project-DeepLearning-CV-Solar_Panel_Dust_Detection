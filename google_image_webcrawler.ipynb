{
 "cells": [
  {
   "cell_type": "code",
   "execution_count": 5,
   "metadata": {},
   "outputs": [
    {
     "ename": "AttributeError",
     "evalue": "'list' object has no attribute 'get_attribute'",
     "output_type": "error",
     "traceback": [
      "\u001b[1;31m---------------------------------------------------------------------------\u001b[0m",
      "\u001b[1;31mAttributeError\u001b[0m                            Traceback (most recent call last)",
      "\u001b[1;32m~\\AppData\\Local\\Temp\\ipykernel_2592\\2624245902.py\u001b[0m in \u001b[0;36m<module>\u001b[1;34m\u001b[0m\n\u001b[0;32m     41\u001b[0m     \u001b[1;32mreturn\u001b[0m \u001b[0mimages_url\u001b[0m\u001b[1;33m\u001b[0m\u001b[1;33m\u001b[0m\u001b[0m\n\u001b[0;32m     42\u001b[0m \u001b[1;33m\u001b[0m\u001b[0m\n\u001b[1;32m---> 43\u001b[1;33m \u001b[0mitems\u001b[0m \u001b[1;33m=\u001b[0m \u001b[0msearch_google\u001b[0m\u001b[1;33m(\u001b[0m\u001b[1;34m'dog'\u001b[0m\u001b[1;33m)\u001b[0m\u001b[1;33m\u001b[0m\u001b[1;33m\u001b[0m\u001b[0m\n\u001b[0m",
      "\u001b[1;32m~\\AppData\\Local\\Temp\\ipykernel_2592\\2624245902.py\u001b[0m in \u001b[0;36msearch_google\u001b[1;34m(search_query)\u001b[0m\n\u001b[0;32m     25\u001b[0m            \u001b[0mbig_img\u001b[0m \u001b[1;33m=\u001b[0m \u001b[0melement\u001b[0m\u001b[1;33m[\u001b[0m\u001b[1;36m1\u001b[0m\u001b[1;33m]\u001b[0m\u001b[1;33m.\u001b[0m\u001b[0mfind_elements\u001b[0m\u001b[1;33m(\u001b[0m\u001b[0mBy\u001b[0m\u001b[1;33m.\u001b[0m\u001b[0mCLASS_NAME\u001b[0m\u001b[1;33m,\u001b[0m\u001b[1;34m'n3VNCb'\u001b[0m\u001b[1;33m)\u001b[0m\u001b[1;33m\u001b[0m\u001b[1;33m\u001b[0m\u001b[0m\n\u001b[0;32m     26\u001b[0m \u001b[1;33m\u001b[0m\u001b[0m\n\u001b[1;32m---> 27\u001b[1;33m         \u001b[0mimages_url\u001b[0m\u001b[1;33m.\u001b[0m\u001b[0mappend\u001b[0m\u001b[1;33m(\u001b[0m\u001b[0mbig_img\u001b[0m\u001b[1;33m.\u001b[0m\u001b[0mget_attribute\u001b[0m\u001b[1;33m(\u001b[0m\u001b[1;34m\"src\"\u001b[0m\u001b[1;33m)\u001b[0m\u001b[1;33m)\u001b[0m\u001b[1;33m\u001b[0m\u001b[1;33m\u001b[0m\u001b[0m\n\u001b[0m\u001b[0;32m     28\u001b[0m \u001b[1;33m\u001b[0m\u001b[0m\n\u001b[0;32m     29\u001b[0m         \u001b[1;31m# write image to file\u001b[0m\u001b[1;33m\u001b[0m\u001b[1;33m\u001b[0m\u001b[0m\n",
      "\u001b[1;31mAttributeError\u001b[0m: 'list' object has no attribute 'get_attribute'"
     ]
    }
   ],
   "source": [
    "from selenium import webdriver\n",
    "from selenium.webdriver.common.by import By\n",
    "import time, requests\n",
    "\n",
    "def search_google(search_query):\n",
    "    browser = webdriver.Chrome()\n",
    "    search_url = f\"https://www.google.com/search?site=&tbm=isch&source=hp&biw=1873&bih=990&q={search_query}\"\n",
    "    images_url = []\n",
    "\n",
    "    # open browser and begin search\n",
    "    browser.get(search_url)\n",
    "    elements = browser.find_elements(By.CLASS_NAME,'rg_i')\n",
    "\n",
    "    count = 0\n",
    "    for e in elements:\n",
    "        # get images source url\n",
    "        e.click()\n",
    "        time.sleep(1)\n",
    "        element = browser.find_elements(By.CLASS_NAME,'v4dQwb')\n",
    "\n",
    "        # Google image web site logic\n",
    "        if count == 0:\n",
    "            big_img = element[0].find_elements(By.CLASS_NAME,'n3VNCb')\n",
    "        else:\n",
    "           big_img = element[1].find_elements(By.CLASS_NAME,'n3VNCb')\n",
    "        \n",
    "        images_url.append(big_img.get_attribute(\"src\"))\n",
    "\n",
    "        # write image to file\n",
    "        reponse = requests.get(images_url[count])\n",
    "        if reponse.status_code == 200:\n",
    "            with open(f\"search{count+1}.jpg\",\"wb\") as file:\n",
    "                file.write(reponse.content)\n",
    "\n",
    "        count += 1\n",
    "\n",
    "        # Stop get and save after 5\n",
    "        if count == 5:\n",
    "            break\n",
    "\n",
    "    return images_url\n",
    "\n",
    "items = search_google('dog')"
   ]
  },
  {
   "cell_type": "code",
   "execution_count": 5,
   "metadata": {},
   "outputs": [
    {
     "name": "stdout",
     "output_type": "stream",
     "text": [
      "this is 1st img\n"
     ]
    }
   ],
   "source": [
    "from selenium import webdriver\n",
    "from selenium.webdriver.common.by import By\n",
    "import time\n",
    "import os \n",
    "import requests\n",
    "\n",
    "img_url = 'https://encrypted-tbn0.gstatic.com/images?q=tbn:ANd9GcTxlAr1gPbZ114zkIVFLFwCCZRC841QKroc6Q&usqp=CAU'\n",
    "img_url_dic = []\n",
    "count = 0\n",
    "img_url_dic.append(img_url)\n",
    "filename = \"./Dusty/\" + str(count) + \".jpg\"\n",
    "r = requests.get(img_url)\n",
    "with open(filename, 'wb') as f:\n",
    "    f.write(r.content)\n",
    "f.close()\n",
    "count += 1\n",
    "print('this is ' + str(count) + 'st img')\n",
    "time.sleep(0.5)"
   ]
  }
 ],
 "metadata": {
  "kernelspec": {
   "display_name": "base",
   "language": "python",
   "name": "python3"
  },
  "language_info": {
   "codemirror_mode": {
    "name": "ipython",
    "version": 3
   },
   "file_extension": ".py",
   "mimetype": "text/x-python",
   "name": "python",
   "nbconvert_exporter": "python",
   "pygments_lexer": "ipython3",
   "version": "3.9.13"
  },
  "orig_nbformat": 4,
  "vscode": {
   "interpreter": {
    "hash": "ad2bdc8ecc057115af97d19610ffacc2b4e99fae6737bb82f5d7fb13d2f2c186"
   }
  }
 },
 "nbformat": 4,
 "nbformat_minor": 2
}
