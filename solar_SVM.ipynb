{
 "cells": [
  {
   "cell_type": "code",
   "execution_count": 1,
   "metadata": {},
   "outputs": [],
   "source": [
    "import numpy as np\n",
    "import pandas as pd\n",
    "import matplotlib.pyplot as plt\n",
    "%matplotlib inline\n",
    "import cv2\n",
    "import os\n",
    "from tqdm import tqdm"
   ]
  },
  {
   "cell_type": "code",
   "execution_count": 2,
   "metadata": {},
   "outputs": [],
   "source": [
    "data_path = './Detect_solar_dust/'\n",
    "dir = sorted(os.listdir(data_path))\n",
    "IMG_SIZE = 300"
   ]
  },
  {
   "cell_type": "code",
   "execution_count": 19,
   "metadata": {},
   "outputs": [
    {
     "name": "stdout",
     "output_type": "stream",
     "text": [
      "OpenCV(4.6.0) D:\\a\\opencv-python\\opencv-python\\opencv\\modules\\imgproc\\src\\resize.cpp:4052: error: (-215:Assertion failed) !ssize.empty() in function 'cv::resize'\n",
      "\n"
     ]
    }
   ],
   "source": [
    "data = []\n",
    "bad_img = []\n",
    "for i in dir:\n",
    "    class_path = os.path.join(data_path, i)\n",
    "    file_list = sorted(os.listdir(class_path)) \n",
    "    for f in file_list:\n",
    "        # fpath = os.path.join(class_path,f)\n",
    "        # img = cv2.imread(fpath, cv2.IMREAD_GRAYSCALE)\n",
    "        # img = cv2.resize(img, (IMG_SIZE, IMG_SIZE))\n",
    "        # data.append([np.array(img), np.array(i)])\n",
    "        try:\n",
    "            fpath = os.path.join(class_path,f)\n",
    "            img = cv2.imread(fpath, cv2.IMREAD_GRAYSCALE)\n",
    "            img = cv2.resize(img, (IMG_SIZE, IMG_SIZE))\n",
    "            data.append([img, str(i)])\n",
    "\n",
    "        except Exception as e:\n",
    "            print(str(e))\n",
    "            fpath = os.path.join(class_path,f)\n",
    "            bad_img.append(fpath)\n",
    "\n",
    "\n",
    "\n",
    "# df = pd.DataFrame(data, columns=['image', 'labels'])"
   ]
  },
  {
   "cell_type": "code",
   "execution_count": 20,
   "metadata": {},
   "outputs": [],
   "source": [
    "lenofimage = len(data)"
   ]
  },
  {
   "cell_type": "code",
   "execution_count": 21,
   "metadata": {},
   "outputs": [],
   "source": [
    "X=[]\n",
    "y=[]\n",
    "\n",
    "for categories, label in data:\n",
    "    X.append(categories)\n",
    "    y.append(label)\n",
    "X= np.array(X).reshape(lenofimage,-1)"
   ]
  },
  {
   "cell_type": "code",
   "execution_count": 22,
   "metadata": {},
   "outputs": [],
   "source": [
    "X = X/255.0\n",
    "y=np.array(y)"
   ]
  },
  {
   "cell_type": "code",
   "execution_count": 23,
   "metadata": {},
   "outputs": [],
   "source": [
    "from sklearn.model_selection import train_test_split\n",
    "X_train, X_test, y_train, y_test = train_test_split(X,y)"
   ]
  },
  {
   "cell_type": "code",
   "execution_count": 24,
   "metadata": {},
   "outputs": [
    {
     "data": {
      "text/plain": [
       "SVC(gamma='auto', kernel='linear')"
      ]
     },
     "execution_count": 24,
     "metadata": {},
     "output_type": "execute_result"
    }
   ],
   "source": [
    "from sklearn.svm import SVC\n",
    "svc = SVC(kernel='linear',gamma='auto')\n",
    "svc.fit(X_train, y_train)"
   ]
  },
  {
   "cell_type": "code",
   "execution_count": 25,
   "metadata": {},
   "outputs": [],
   "source": [
    "y2 = svc.predict(X_test)"
   ]
  },
  {
   "cell_type": "code",
   "execution_count": 35,
   "metadata": {},
   "outputs": [
    {
     "name": "stdout",
     "output_type": "stream",
     "text": [
      "Accuracy on unknown data is 0.7067082683307332\n",
      "F1-Score on unknown data is 0.7519788918205805\n"
     ]
    }
   ],
   "source": [
    "from sklearn.metrics import accuracy_score, f1_score, confusion_matrix\n",
    "cm = confusion_matrix(y_test,y2)\n",
    "print(\"Accuracy on unknown data is\",accuracy_score(y_test,y2))\n",
    "print(\"F1-Score on unknown data is\",f1_score(y_test,y2, pos_label='Clean'))"
   ]
  },
  {
   "cell_type": "code",
   "execution_count": 36,
   "metadata": {},
   "outputs": [
    {
     "name": "stdout",
     "output_type": "stream",
     "text": [
      "Accuracy on unknown data is               precision    recall  f1-score   support\n",
      "\n",
      "       Clean       0.76      0.75      0.75       381\n",
      "       Dusty       0.64      0.65      0.64       260\n",
      "\n",
      "    accuracy                           0.71       641\n",
      "   macro avg       0.70      0.70      0.70       641\n",
      "weighted avg       0.71      0.71      0.71       641\n",
      "\n"
     ]
    }
   ],
   "source": [
    "from sklearn.metrics import classification_report\n",
    "print(\"Accuracy on unknown data is\",classification_report(y_test,y2))"
   ]
  },
  {
   "cell_type": "code",
   "execution_count": null,
   "metadata": {},
   "outputs": [],
   "source": [
    "result = pd.DataFrame({'original' : y_test,'predicted' : y2})\n",
    "result"
   ]
  },
  {
   "cell_type": "code",
   "execution_count": 42,
   "metadata": {},
   "outputs": [
    {
     "name": "stdout",
     "output_type": "stream",
     "text": [
      "Fitting 5 folds for each of 25 candidates, totalling 125 fits\n",
      "[CV 1/5] END ........C=0.1, gamma=1, kernel=rbf;, score=0.581 total time= 2.6min\n",
      "[CV 2/5] END ........C=0.1, gamma=1, kernel=rbf;, score=0.578 total time= 2.6min\n",
      "[CV 3/5] END ........C=0.1, gamma=1, kernel=rbf;, score=0.578 total time= 2.6min\n",
      "[CV 4/5] END ........C=0.1, gamma=1, kernel=rbf;, score=0.578 total time= 2.6min\n",
      "[CV 5/5] END ........C=0.1, gamma=1, kernel=rbf;, score=0.578 total time= 2.9min\n",
      "[CV 1/5] END ......C=0.1, gamma=0.1, kernel=rbf;, score=0.581 total time= 2.9min\n",
      "[CV 2/5] END ......C=0.1, gamma=0.1, kernel=rbf;, score=0.578 total time= 2.9min\n",
      "[CV 3/5] END ......C=0.1, gamma=0.1, kernel=rbf;, score=0.578 total time= 3.1min\n",
      "[CV 4/5] END ......C=0.1, gamma=0.1, kernel=rbf;, score=0.578 total time= 3.0min\n",
      "[CV 5/5] END ......C=0.1, gamma=0.1, kernel=rbf;, score=0.578 total time= 3.0min\n",
      "[CV 1/5] END .....C=0.1, gamma=0.01, kernel=rbf;, score=0.581 total time= 2.7min\n",
      "[CV 2/5] END .....C=0.1, gamma=0.01, kernel=rbf;, score=0.578 total time= 2.6min\n",
      "[CV 3/5] END .....C=0.1, gamma=0.01, kernel=rbf;, score=0.578 total time= 2.7min\n",
      "[CV 4/5] END .....C=0.1, gamma=0.01, kernel=rbf;, score=0.578 total time= 2.5min\n",
      "[CV 5/5] END .....C=0.1, gamma=0.01, kernel=rbf;, score=0.578 total time= 2.5min\n",
      "[CV 1/5] END ....C=0.1, gamma=0.001, kernel=rbf;, score=0.583 total time= 2.6min\n",
      "[CV 2/5] END ....C=0.1, gamma=0.001, kernel=rbf;, score=0.578 total time= 2.5min\n",
      "[CV 3/5] END ....C=0.1, gamma=0.001, kernel=rbf;, score=0.581 total time= 2.7min\n",
      "[CV 4/5] END ....C=0.1, gamma=0.001, kernel=rbf;, score=0.578 total time= 2.9min\n",
      "[CV 5/5] END ....C=0.1, gamma=0.001, kernel=rbf;, score=0.578 total time= 2.9min\n",
      "[CV 1/5] END ...C=0.1, gamma=0.0001, kernel=rbf;, score=0.643 total time= 2.6min\n",
      "[CV 2/5] END ...C=0.1, gamma=0.0001, kernel=rbf;, score=0.641 total time= 2.6min\n",
      "[CV 3/5] END ...C=0.1, gamma=0.0001, kernel=rbf;, score=0.680 total time= 2.6min\n",
      "[CV 4/5] END ...C=0.1, gamma=0.0001, kernel=rbf;, score=0.643 total time= 2.7min\n",
      "[CV 5/5] END ...C=0.1, gamma=0.0001, kernel=rbf;, score=0.659 total time= 2.6min\n",
      "[CV 1/5] END ..........C=1, gamma=1, kernel=rbf;, score=0.646 total time= 2.8min\n",
      "[CV 2/5] END ..........C=1, gamma=1, kernel=rbf;, score=0.661 total time= 3.0min\n",
      "[CV 3/5] END ..........C=1, gamma=1, kernel=rbf;, score=0.641 total time= 3.0min\n",
      "[CV 4/5] END ..........C=1, gamma=1, kernel=rbf;, score=0.667 total time= 3.0min\n",
      "[CV 5/5] END ..........C=1, gamma=1, kernel=rbf;, score=0.638 total time= 2.9min\n",
      "[CV 1/5] END ........C=1, gamma=0.1, kernel=rbf;, score=0.648 total time= 2.7min\n",
      "[CV 2/5] END ........C=1, gamma=0.1, kernel=rbf;, score=0.661 total time= 2.8min\n",
      "[CV 3/5] END ........C=1, gamma=0.1, kernel=rbf;, score=0.646 total time= 2.9min\n",
      "[CV 4/5] END ........C=1, gamma=0.1, kernel=rbf;, score=0.672 total time= 3.0min\n",
      "[CV 5/5] END ........C=1, gamma=0.1, kernel=rbf;, score=0.638 total time= 3.0min\n",
      "[CV 1/5] END .......C=1, gamma=0.01, kernel=rbf;, score=0.656 total time= 2.9min\n",
      "[CV 2/5] END .......C=1, gamma=0.01, kernel=rbf;, score=0.667 total time= 3.0min\n",
      "[CV 3/5] END .......C=1, gamma=0.01, kernel=rbf;, score=0.651 total time= 3.0min\n",
      "[CV 4/5] END .......C=1, gamma=0.01, kernel=rbf;, score=0.672 total time= 2.8min\n",
      "[CV 5/5] END .......C=1, gamma=0.01, kernel=rbf;, score=0.648 total time= 2.9min\n",
      "[CV 1/5] END ......C=1, gamma=0.001, kernel=rbf;, score=0.693 total time= 3.3min\n",
      "[CV 2/5] END ......C=1, gamma=0.001, kernel=rbf;, score=0.732 total time= 2.8min\n",
      "[CV 3/5] END ......C=1, gamma=0.001, kernel=rbf;, score=0.688 total time= 2.7min\n",
      "[CV 4/5] END ......C=1, gamma=0.001, kernel=rbf;, score=0.719 total time= 2.7min\n",
      "[CV 5/5] END ......C=1, gamma=0.001, kernel=rbf;, score=0.693 total time= 2.6min\n",
      "[CV 1/5] END .....C=1, gamma=0.0001, kernel=rbf;, score=0.698 total time= 2.2min\n",
      "[CV 2/5] END .....C=1, gamma=0.0001, kernel=rbf;, score=0.724 total time= 2.5min\n",
      "[CV 3/5] END .....C=1, gamma=0.0001, kernel=rbf;, score=0.714 total time= 2.2min\n",
      "[CV 4/5] END .....C=1, gamma=0.0001, kernel=rbf;, score=0.776 total time= 2.2min\n",
      "[CV 5/5] END .....C=1, gamma=0.0001, kernel=rbf;, score=0.701 total time= 2.2min\n",
      "[CV 1/5] END .........C=10, gamma=1, kernel=rbf;, score=0.648 total time= 2.6min\n",
      "[CV 2/5] END .........C=10, gamma=1, kernel=rbf;, score=0.661 total time= 2.5min\n",
      "[CV 3/5] END .........C=10, gamma=1, kernel=rbf;, score=0.643 total time= 2.7min\n",
      "[CV 4/5] END .........C=10, gamma=1, kernel=rbf;, score=0.667 total time= 2.5min\n",
      "[CV 5/5] END .........C=10, gamma=1, kernel=rbf;, score=0.638 total time= 2.7min\n",
      "[CV 1/5] END .......C=10, gamma=0.1, kernel=rbf;, score=0.648 total time= 2.8min\n",
      "[CV 2/5] END .......C=10, gamma=0.1, kernel=rbf;, score=0.661 total time= 2.5min\n",
      "[CV 3/5] END .......C=10, gamma=0.1, kernel=rbf;, score=0.648 total time= 2.5min\n",
      "[CV 4/5] END .......C=10, gamma=0.1, kernel=rbf;, score=0.672 total time= 2.5min\n",
      "[CV 5/5] END .......C=10, gamma=0.1, kernel=rbf;, score=0.643 total time= 2.4min\n",
      "[CV 1/5] END ......C=10, gamma=0.01, kernel=rbf;, score=0.656 total time= 2.7min\n",
      "[CV 2/5] END ......C=10, gamma=0.01, kernel=rbf;, score=0.664 total time= 2.4min\n",
      "[CV 3/5] END ......C=10, gamma=0.01, kernel=rbf;, score=0.651 total time= 2.5min\n",
      "[CV 4/5] END ......C=10, gamma=0.01, kernel=rbf;, score=0.672 total time= 2.6min\n",
      "[CV 5/5] END ......C=10, gamma=0.01, kernel=rbf;, score=0.651 total time= 2.5min\n",
      "[CV 1/5] END .....C=10, gamma=0.001, kernel=rbf;, score=0.706 total time= 2.5min\n",
      "[CV 2/5] END .....C=10, gamma=0.001, kernel=rbf;, score=0.737 total time= 2.5min\n",
      "[CV 3/5] END .....C=10, gamma=0.001, kernel=rbf;, score=0.685 total time= 2.6min\n",
      "[CV 4/5] END .....C=10, gamma=0.001, kernel=rbf;, score=0.727 total time= 2.6min\n",
      "[CV 5/5] END .....C=10, gamma=0.001, kernel=rbf;, score=0.698 total time= 2.5min\n",
      "[CV 1/5] END ....C=10, gamma=0.0001, kernel=rbf;, score=0.714 total time= 2.3min\n",
      "[CV 2/5] END ....C=10, gamma=0.0001, kernel=rbf;, score=0.753 total time= 2.8min\n",
      "[CV 3/5] END ....C=10, gamma=0.0001, kernel=rbf;, score=0.708 total time= 2.5min\n",
      "[CV 4/5] END ....C=10, gamma=0.0001, kernel=rbf;, score=0.763 total time= 2.5min\n",
      "[CV 5/5] END ....C=10, gamma=0.0001, kernel=rbf;, score=0.711 total time= 2.5min\n",
      "[CV 1/5] END ........C=100, gamma=1, kernel=rbf;, score=0.648 total time= 2.6min\n",
      "[CV 2/5] END ........C=100, gamma=1, kernel=rbf;, score=0.661 total time= 2.6min\n",
      "[CV 3/5] END ........C=100, gamma=1, kernel=rbf;, score=0.643 total time= 2.6min\n",
      "[CV 4/5] END ........C=100, gamma=1, kernel=rbf;, score=0.667 total time= 2.6min\n",
      "[CV 5/5] END ........C=100, gamma=1, kernel=rbf;, score=0.638 total time= 2.6min\n",
      "[CV 1/5] END ......C=100, gamma=0.1, kernel=rbf;, score=0.648 total time= 2.6min\n",
      "[CV 2/5] END ......C=100, gamma=0.1, kernel=rbf;, score=0.661 total time= 2.6min\n",
      "[CV 3/5] END ......C=100, gamma=0.1, kernel=rbf;, score=0.648 total time= 2.6min\n",
      "[CV 4/5] END ......C=100, gamma=0.1, kernel=rbf;, score=0.672 total time= 2.6min\n",
      "[CV 5/5] END ......C=100, gamma=0.1, kernel=rbf;, score=0.643 total time= 2.7min\n",
      "[CV 1/5] END .....C=100, gamma=0.01, kernel=rbf;, score=0.656 total time= 2.9min\n",
      "[CV 2/5] END .....C=100, gamma=0.01, kernel=rbf;, score=0.664 total time= 2.9min\n",
      "[CV 3/5] END .....C=100, gamma=0.01, kernel=rbf;, score=0.651 total time= 2.7min\n",
      "[CV 4/5] END .....C=100, gamma=0.01, kernel=rbf;, score=0.672 total time= 2.5min\n",
      "[CV 5/5] END .....C=100, gamma=0.01, kernel=rbf;, score=0.651 total time= 2.7min\n",
      "[CV 1/5] END ....C=100, gamma=0.001, kernel=rbf;, score=0.706 total time= 2.6min\n",
      "[CV 2/5] END ....C=100, gamma=0.001, kernel=rbf;, score=0.737 total time= 2.4min\n",
      "[CV 3/5] END ....C=100, gamma=0.001, kernel=rbf;, score=0.688 total time= 2.9min\n",
      "[CV 4/5] END ....C=100, gamma=0.001, kernel=rbf;, score=0.727 total time= 3.5min\n",
      "[CV 5/5] END ....C=100, gamma=0.001, kernel=rbf;, score=0.701 total time= 2.9min\n",
      "[CV 1/5] END ...C=100, gamma=0.0001, kernel=rbf;, score=0.711 total time= 2.7min\n",
      "[CV 2/5] END ...C=100, gamma=0.0001, kernel=rbf;, score=0.745 total time= 3.1min\n",
      "[CV 3/5] END ...C=100, gamma=0.0001, kernel=rbf;, score=0.703 total time= 3.0min\n",
      "[CV 4/5] END ...C=100, gamma=0.0001, kernel=rbf;, score=0.766 total time= 3.2min\n",
      "[CV 5/5] END ...C=100, gamma=0.0001, kernel=rbf;, score=0.714 total time= 2.8min\n",
      "[CV 1/5] END .......C=1000, gamma=1, kernel=rbf;, score=0.648 total time= 2.4min\n",
      "[CV 2/5] END .......C=1000, gamma=1, kernel=rbf;, score=0.661 total time= 2.2min\n",
      "[CV 3/5] END .......C=1000, gamma=1, kernel=rbf;, score=0.643 total time= 2.2min\n",
      "[CV 4/5] END .......C=1000, gamma=1, kernel=rbf;, score=0.667 total time= 2.2min\n",
      "[CV 5/5] END .......C=1000, gamma=1, kernel=rbf;, score=0.638 total time= 2.2min\n",
      "[CV 1/5] END .....C=1000, gamma=0.1, kernel=rbf;, score=0.648 total time= 2.2min\n",
      "[CV 2/5] END .....C=1000, gamma=0.1, kernel=rbf;, score=0.661 total time= 2.2min\n",
      "[CV 3/5] END .....C=1000, gamma=0.1, kernel=rbf;, score=0.648 total time= 2.4min\n",
      "[CV 4/5] END .....C=1000, gamma=0.1, kernel=rbf;, score=0.672 total time= 2.4min\n",
      "[CV 5/5] END .....C=1000, gamma=0.1, kernel=rbf;, score=0.643 total time= 2.4min\n",
      "[CV 1/5] END ....C=1000, gamma=0.01, kernel=rbf;, score=0.656 total time= 2.4min\n",
      "[CV 2/5] END ....C=1000, gamma=0.01, kernel=rbf;, score=0.664 total time= 2.4min\n",
      "[CV 3/5] END ....C=1000, gamma=0.01, kernel=rbf;, score=0.651 total time= 2.4min\n",
      "[CV 4/5] END ....C=1000, gamma=0.01, kernel=rbf;, score=0.672 total time= 2.4min\n",
      "[CV 5/5] END ....C=1000, gamma=0.01, kernel=rbf;, score=0.651 total time= 2.4min\n",
      "[CV 1/5] END ...C=1000, gamma=0.001, kernel=rbf;, score=0.706 total time= 2.4min\n",
      "[CV 2/5] END ...C=1000, gamma=0.001, kernel=rbf;, score=0.737 total time= 2.4min\n",
      "[CV 3/5] END ...C=1000, gamma=0.001, kernel=rbf;, score=0.688 total time= 2.4min\n",
      "[CV 4/5] END ...C=1000, gamma=0.001, kernel=rbf;, score=0.727 total time= 2.4min\n",
      "[CV 5/5] END ...C=1000, gamma=0.001, kernel=rbf;, score=0.701 total time= 2.4min\n",
      "[CV 1/5] END ..C=1000, gamma=0.0001, kernel=rbf;, score=0.711 total time= 2.3min\n",
      "[CV 2/5] END ..C=1000, gamma=0.0001, kernel=rbf;, score=0.753 total time= 2.3min\n",
      "[CV 3/5] END ..C=1000, gamma=0.0001, kernel=rbf;, score=0.708 total time= 2.3min\n",
      "[CV 4/5] END ..C=1000, gamma=0.0001, kernel=rbf;, score=0.768 total time= 2.3min\n",
      "[CV 5/5] END ..C=1000, gamma=0.0001, kernel=rbf;, score=0.698 total time= 2.3min\n"
     ]
    },
    {
     "data": {
      "text/plain": [
       "GridSearchCV(estimator=SVC(),\n",
       "             param_grid={'C': [0.1, 1, 10, 100, 1000],\n",
       "                         'gamma': [1, 0.1, 0.01, 0.001, 0.0001],\n",
       "                         'kernel': ['rbf']},\n",
       "             verbose=3)"
      ]
     },
     "execution_count": 42,
     "metadata": {},
     "output_type": "execute_result"
    }
   ],
   "source": [
    "from sklearn.model_selection import GridSearchCV\n",
    "  \n",
    "# defining parameter range\n",
    "param_grid = {'C': [0.1, 1, 10, 100, 1000], \n",
    "              'gamma': [1, 0.1, 0.01, 0.001, 0.0001],\n",
    "              'kernel': ['rbf']} \n",
    "  \n",
    "grid = GridSearchCV(SVC(), param_grid, refit = True, verbose = 3)\n",
    "  \n",
    "# fitting the model for grid search\n",
    "grid.fit(X_train, y_train)"
   ]
  },
  {
   "cell_type": "code",
   "execution_count": 43,
   "metadata": {},
   "outputs": [
    {
     "name": "stdout",
     "output_type": "stream",
     "text": [
      "{'C': 10, 'gamma': 0.0001, 'kernel': 'rbf'}\n",
      "SVC(C=10, gamma=0.0001)\n"
     ]
    }
   ],
   "source": [
    "# print best parameter after tuning\n",
    "print(grid.best_params_)\n",
    "  \n",
    "# print how our model looks after hyper-parameter tuning\n",
    "print(grid.best_estimator_)"
   ]
  },
  {
   "cell_type": "code",
   "execution_count": 44,
   "metadata": {},
   "outputs": [
    {
     "name": "stdout",
     "output_type": "stream",
     "text": [
      "              precision    recall  f1-score   support\n",
      "\n",
      "       Clean       0.78      0.81      0.79       381\n",
      "       Dusty       0.70      0.66      0.68       260\n",
      "\n",
      "    accuracy                           0.75       641\n",
      "   macro avg       0.74      0.73      0.73       641\n",
      "weighted avg       0.74      0.75      0.74       641\n",
      "\n"
     ]
    }
   ],
   "source": [
    "grid_predictions = grid.predict(X_test)\n",
    "  \n",
    "# print classification report\n",
    "print(classification_report(y_test, grid_predictions))"
   ]
  },
  {
   "cell_type": "code",
   "execution_count": 45,
   "metadata": {},
   "outputs": [
    {
     "name": "stdout",
     "output_type": "stream",
     "text": [
      "Accuracy on unknown data is 0.7457098283931357\n",
      "F1-Score on unknown data is 0.7902187902187902\n"
     ]
    }
   ],
   "source": [
    "from sklearn.metrics import accuracy_score, f1_score, confusion_matrix\n",
    "cm = confusion_matrix(y_test, grid_predictions)\n",
    "print(\"Accuracy on unknown data is\",accuracy_score(y_test, grid_predictions))\n",
    "print(\"F1-Score on unknown data is\",f1_score(y_test, grid_predictions, pos_label='Clean'))"
   ]
  }
 ],
 "metadata": {
  "kernelspec": {
   "display_name": "base",
   "language": "python",
   "name": "python3"
  },
  "language_info": {
   "codemirror_mode": {
    "name": "ipython",
    "version": 3
   },
   "file_extension": ".py",
   "mimetype": "text/x-python",
   "name": "python",
   "nbconvert_exporter": "python",
   "pygments_lexer": "ipython3",
   "version": "3.9.13"
  },
  "orig_nbformat": 4,
  "vscode": {
   "interpreter": {
    "hash": "ad2bdc8ecc057115af97d19610ffacc2b4e99fae6737bb82f5d7fb13d2f2c186"
   }
  }
 },
 "nbformat": 4,
 "nbformat_minor": 2
}
